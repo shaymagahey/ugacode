{
 "cells": [
  {
   "cell_type": "code",
   "execution_count": 1,
   "id": "87fc226c-164f-4db6-9117-567e11b1104a",
   "metadata": {},
   "outputs": [],
   "source": [
    "import numpy as np\n",
    "import matplotlib.pyplot as plt\n",
    "import matplotlib\n",
    "import xarray as xr\n",
    "import cartopy.crs as ccrs\n",
    "import netCDF4 as nc"
   ]
  },
  {
   "cell_type": "code",
   "execution_count": 2,
   "id": "3f5f9252-524f-4fef-82a1-452f5110b5b5",
   "metadata": {},
   "outputs": [],
   "source": [
    "file1 = \"/glade/campaign/cesm/collections/cesmLE/CESM-CAM5-BGC-LE/atm/proc/tseries/monthly/AODABS/b.e11.B20TRC5CNBDRD.f09_g16.002.cam.h0.AODABS.192001-200512.nc\"\n",
    "file2 = \"/glade/campaign/cesm/collections/cesmLE/CESM-CAM5-BGC-LE/atm/proc/tseries/monthly/AODABS/b.e11.B20TRLENS_RCP85.f09_g16.xaer.002.cam.h0.AODABS.192001-200512.nc\"\n",
    "\n"
   ]
  },
  {
   "cell_type": "code",
   "execution_count": 3,
   "id": "901b2e4a-31d5-4de7-97e8-43db49430685",
   "metadata": {},
   "outputs": [],
   "source": [
    "dsFOR = xr.open_dataset(file2)\n",
    "dsCT = xr.open_dataset(file1)\n",
    "VAR_FOR = np.array(dsFOR[\"AODABS\"])\n",
    "VAR_CT = np.array(dsCT[\"AODABS\"])"
   ]
  },
  {
   "cell_type": "code",
   "execution_count": 5,
   "id": "3567e126-8c19-46a6-b98f-44b4257336ce",
   "metadata": {},
   "outputs": [],
   "source": [
    "gbCT = dsCT.AODABS.groupby(dsCT.time.dt.month)\n",
    "gbFOR = dsFOR.AODABS.groupby(dsFOR.time.dt.month)"
   ]
  },
  {
   "cell_type": "code",
   "execution_count": 11,
   "id": "a066c1d9-e39a-4067-868f-4f1d4163ad15",
   "metadata": {},
   "outputs": [
    {
     "data": {
      "text/plain": [
       "\u001b[0;31mType:\u001b[0m            DataArrayGroupBy\n",
       "\u001b[0;31mString form:\u001b[0m    \n",
       "DataArrayGroupBy, grouped over 'month'\n",
       "12 groups with labels 1, 2, 3, 4, 5, 6, 7, 8, 9, 10, 11, 12.\n",
       "\u001b[0;31mLength:\u001b[0m          12\n",
       "\u001b[0;31mFile:\u001b[0m            ~/.conda/envs/shay_env1/lib/python3.10/site-packages/xarray/core/groupby.py\n",
       "\u001b[0;31mDocstring:\u001b[0m       <no docstring>\n",
       "\u001b[0;31mClass docstring:\u001b[0m GroupBy object specialized to grouping DataArray objects\n",
       "\u001b[0;31mInit docstring:\u001b[0m \n",
       "Create a GroupBy object\n",
       "\n",
       "Parameters\n",
       "----------\n",
       "obj : Dataset or DataArray\n",
       "    Object to group.\n",
       "group : Hashable, DataArray or Index\n",
       "    Array with the group values or name of the variable.\n",
       "squeeze : bool, default: False\n",
       "    If \"group\" is a coordinate of object, `squeeze` controls whether\n",
       "    the subarrays have a dimension of length 1 along that coordinate or\n",
       "    if the dimension is squeezed out.\n",
       "grouper : pandas.Grouper, optional\n",
       "    Used for grouping values along the `group` array.\n",
       "bins : array-like, optional\n",
       "    If `bins` is specified, the groups will be discretized into the\n",
       "    specified bins by `pandas.cut`.\n",
       "restore_coord_dims : bool, default: True\n",
       "    If True, also restore the dimension order of multi-dimensional\n",
       "    coordinates.\n",
       "cut_kwargs : dict-like, optional\n",
       "    Extra keyword arguments to pass to `pandas.cut`"
      ]
     },
     "metadata": {},
     "output_type": "display_data"
    }
   ],
   "source": [
    "gbCT?"
   ]
  },
  {
   "cell_type": "code",
   "execution_count": null,
   "id": "a6db9eb7-6e90-4f3a-9c1d-b011c4c3eef2",
   "metadata": {},
   "outputs": [],
   "source": [
    "lat = np.linspace(-90,90,160)\n",
    "lon = np.linspace(0,360,320)\n",
    "lon,lat = np.meshgrid(lon,lat)"
   ]
  }
 ],
 "metadata": {
  "kernelspec": {
   "display_name": "shay_env1",
   "language": "python",
   "name": "shay_env1"
  },
  "language_info": {
   "codemirror_mode": {
    "name": "ipython",
    "version": 3
   },
   "file_extension": ".py",
   "mimetype": "text/x-python",
   "name": "python",
   "nbconvert_exporter": "python",
   "pygments_lexer": "ipython3",
   "version": "3.10.9"
  }
 },
 "nbformat": 4,
 "nbformat_minor": 5
}

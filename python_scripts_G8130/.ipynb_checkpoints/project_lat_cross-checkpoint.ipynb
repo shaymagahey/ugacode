{
 "cells": [
  {
   "cell_type": "code",
   "execution_count": null,
   "id": "29ef973f-7e6a-4ca6-86ee-f503358601ee",
   "metadata": {},
   "outputs": [],
   "source": [
    "import numpy as np\n",
    "import matplotlib.pyplot as plt\n",
    "import matplotlib\n",
    "import xarray as xr\n",
    "import cartopy.crs as ccrs\n",
    "import netCDF4 as nc\n",
    "import pandas as pd\n",
    "from matplotlib.pyplot import figure"
   ]
  }
 ],
 "metadata": {
  "kernelspec": {
   "display_name": "shay_env1",
   "language": "python",
   "name": "shay_env1"
  },
  "language_info": {
   "codemirror_mode": {
    "name": "ipython",
    "version": 3
   },
   "file_extension": ".py",
   "mimetype": "text/x-python",
   "name": "python",
   "nbconvert_exporter": "python",
   "pygments_lexer": "ipython3",
   "version": "3.10.9"
  }
 },
 "nbformat": 4,
 "nbformat_minor": 5
}
